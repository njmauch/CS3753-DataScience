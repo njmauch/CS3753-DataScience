{
 "cells": [
  {
   "cell_type": "code",
   "execution_count": 1,
   "metadata": {},
   "outputs": [
    {
     "name": "stdout",
     "output_type": "stream",
     "text": [
      "Welcome to Python Programming\n",
      "Python\n",
      "Welcome to Python Environment\n",
      "[[9, 10], 8.5, 7, 'code', 'software']\n",
      "(4, 'Python', 'for', 'kids')\n",
      "[0, 1, 2]\n",
      "['Python', 'Very', 'Funny']\n",
      "Is key 2 in Dict? False\n",
      "[0, 'Python'][1, 'Very']"
     ]
    }
   ],
   "source": [
    "from __future__ import print_function\n",
    "\n",
    "string = 'Welcome to Python Programming'\n",
    "print(string)\n",
    "print(string[11:17])\n",
    "print(string.replace(\"Programming\", \"Environment\"))\n",
    "\n",
    "list1 = []\n",
    "list1.append(1)\n",
    "list1.append(2)\n",
    "list1.append(3)\n",
    "list1.append(4)\n",
    "list1.extend((5,6))\n",
    "list1.extend(['perfect', 'wonderful'])\n",
    "list2 = [[7,8],[9,10]]\n",
    "list1 = list1 + list2\n",
    "list1.extend([8.5, 7, 'code', 'software'])\n",
    "print(list1[-5:])\n",
    "del list1[3:6]\n",
    "\n",
    "Tuple1 = (1, 2, 3, 4)\n",
    "Tuple2= ('Python', 'for', 'kids')\n",
    "Tuple1 = Tuple1 + Tuple2\n",
    "print(Tuple1[3:])\n",
    "\n",
    "Dict = {}\n",
    "Dict[0] = 'Python'\n",
    "Dict[1] = 'Programming'\n",
    "Dict[2] = 'Funny'\n",
    "Dict[1] = 'Very'\n",
    "print(Dict.keys())\n",
    "print(Dict.values())\n",
    "Dict.pop(2)\n",
    "print(\"Is key 2 in Dict? \", end=\"\")\n",
    "print(2 in Dict)\n",
    "for key, value in Dict.items():\n",
    "    temp = [key, value]\n",
    "    print(temp, end=\"\")"
   ]
  },
  {
   "cell_type": "code",
   "execution_count": null,
   "metadata": {},
   "outputs": [],
   "source": []
  }
 ],
 "metadata": {
  "kernelspec": {
   "display_name": "Python 2",
   "language": "python",
   "name": "python2"
  },
  "language_info": {
   "codemirror_mode": {
    "name": "ipython",
    "version": 2
   },
   "file_extension": ".py",
   "mimetype": "text/x-python",
   "name": "python",
   "nbconvert_exporter": "python",
   "pygments_lexer": "ipython2",
   "version": "2.7.14"
  }
 },
 "nbformat": 4,
 "nbformat_minor": 4
}
